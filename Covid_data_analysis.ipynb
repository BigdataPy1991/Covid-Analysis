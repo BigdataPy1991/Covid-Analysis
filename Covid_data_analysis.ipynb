{
 "cells": [
  {
   "cell_type": "code",
   "execution_count": 1,
   "metadata": {},
   "outputs": [
    {
     "name": "stdout",
     "output_type": "stream",
     "text": [
      "Countries effected:166\n",
      "COVID DATA worldwide:\n"
     ]
    },
    {
     "data": {
      "text/html": [
       "<div>\n",
       "<style scoped>\n",
       "    .dataframe tbody tr th:only-of-type {\n",
       "        vertical-align: middle;\n",
       "    }\n",
       "\n",
       "    .dataframe tbody tr th {\n",
       "        vertical-align: top;\n",
       "    }\n",
       "\n",
       "    .dataframe thead th {\n",
       "        text-align: right;\n",
       "    }\n",
       "</style>\n",
       "<table border=\"1\" class=\"dataframe\">\n",
       "  <thead>\n",
       "    <tr style=\"text-align: right;\">\n",
       "      <th></th>\n",
       "      <th>GeoId</th>\n",
       "      <th>Cases</th>\n",
       "      <th>Deaths</th>\n",
       "    </tr>\n",
       "  </thead>\n",
       "  <tbody>\n",
       "    <tr>\n",
       "      <td>78</td>\n",
       "      <td>IT</td>\n",
       "      <td>41035</td>\n",
       "      <td>3407</td>\n",
       "    </tr>\n",
       "    <tr>\n",
       "      <td>34</td>\n",
       "      <td>CN</td>\n",
       "      <td>81337</td>\n",
       "      <td>3254</td>\n",
       "    </tr>\n",
       "    <tr>\n",
       "      <td>76</td>\n",
       "      <td>IR</td>\n",
       "      <td>18407</td>\n",
       "      <td>1284</td>\n",
       "    </tr>\n",
       "    <tr>\n",
       "      <td>49</td>\n",
       "      <td>ES</td>\n",
       "      <td>17147</td>\n",
       "      <td>767</td>\n",
       "    </tr>\n",
       "    <tr>\n",
       "      <td>54</td>\n",
       "      <td>FR</td>\n",
       "      <td>10995</td>\n",
       "      <td>372</td>\n",
       "    </tr>\n",
       "    <tr>\n",
       "      <td>...</td>\n",
       "      <td>...</td>\n",
       "      <td>...</td>\n",
       "      <td>...</td>\n",
       "    </tr>\n",
       "    <tr>\n",
       "      <td>59</td>\n",
       "      <td>GI</td>\n",
       "      <td>10</td>\n",
       "      <td>0</td>\n",
       "    </tr>\n",
       "    <tr>\n",
       "      <td>58</td>\n",
       "      <td>GH</td>\n",
       "      <td>11</td>\n",
       "      <td>0</td>\n",
       "    </tr>\n",
       "    <tr>\n",
       "      <td>57</td>\n",
       "      <td>GG</td>\n",
       "      <td>1</td>\n",
       "      <td>0</td>\n",
       "    </tr>\n",
       "    <tr>\n",
       "      <td>56</td>\n",
       "      <td>GE</td>\n",
       "      <td>40</td>\n",
       "      <td>0</td>\n",
       "    </tr>\n",
       "    <tr>\n",
       "      <td>165</td>\n",
       "      <td>ZM</td>\n",
       "      <td>2</td>\n",
       "      <td>0</td>\n",
       "    </tr>\n",
       "  </tbody>\n",
       "</table>\n",
       "<p>166 rows × 3 columns</p>\n",
       "</div>"
      ],
      "text/plain": [
       "    GeoId  Cases  Deaths\n",
       "78     IT  41035    3407\n",
       "34     CN  81337    3254\n",
       "76     IR  18407    1284\n",
       "49     ES  17147     767\n",
       "54     FR  10995     372\n",
       "..    ...    ...     ...\n",
       "59     GI     10       0\n",
       "58     GH     11       0\n",
       "57     GG      1       0\n",
       "56     GE     40       0\n",
       "165    ZM      2       0\n",
       "\n",
       "[166 rows x 3 columns]"
      ]
     },
     "metadata": {},
     "output_type": "display_data"
    },
    {
     "name": "stdout",
     "output_type": "stream",
     "text": [
      "Country with highest COVID Deaths:\n",
      "\n"
     ]
    },
    {
     "data": {
      "text/html": [
       "<div>\n",
       "<style scoped>\n",
       "    .dataframe tbody tr th:only-of-type {\n",
       "        vertical-align: middle;\n",
       "    }\n",
       "\n",
       "    .dataframe tbody tr th {\n",
       "        vertical-align: top;\n",
       "    }\n",
       "\n",
       "    .dataframe thead th {\n",
       "        text-align: right;\n",
       "    }\n",
       "</style>\n",
       "<table border=\"1\" class=\"dataframe\">\n",
       "  <thead>\n",
       "    <tr style=\"text-align: right;\">\n",
       "      <th></th>\n",
       "      <th>GeoId</th>\n",
       "      <th>Deaths</th>\n",
       "    </tr>\n",
       "  </thead>\n",
       "  <tbody>\n",
       "    <tr>\n",
       "      <td>78</td>\n",
       "      <td>IT</td>\n",
       "      <td>3407</td>\n",
       "    </tr>\n",
       "  </tbody>\n",
       "</table>\n",
       "</div>"
      ],
      "text/plain": [
       "   GeoId  Deaths\n",
       "78    IT    3407"
      ]
     },
     "metadata": {},
     "output_type": "display_data"
    },
    {
     "name": "stdout",
     "output_type": "stream",
     "text": [
      "COVID Deaths year and country wise :\n"
     ]
    },
    {
     "data": {
      "text/html": [
       "<div>\n",
       "<style scoped>\n",
       "    .dataframe tbody tr th:only-of-type {\n",
       "        vertical-align: middle;\n",
       "    }\n",
       "\n",
       "    .dataframe tbody tr th {\n",
       "        vertical-align: top;\n",
       "    }\n",
       "\n",
       "    .dataframe thead th {\n",
       "        text-align: right;\n",
       "    }\n",
       "</style>\n",
       "<table border=\"1\" class=\"dataframe\">\n",
       "  <thead>\n",
       "    <tr style=\"text-align: right;\">\n",
       "      <th></th>\n",
       "      <th>Year</th>\n",
       "      <th>GeoId</th>\n",
       "      <th>Deaths</th>\n",
       "    </tr>\n",
       "  </thead>\n",
       "  <tbody>\n",
       "    <tr>\n",
       "      <td>12</td>\n",
       "      <td>2019</td>\n",
       "      <td>CN</td>\n",
       "      <td>0</td>\n",
       "    </tr>\n",
       "    <tr>\n",
       "      <td>101</td>\n",
       "      <td>2020</td>\n",
       "      <td>CN</td>\n",
       "      <td>3254</td>\n",
       "    </tr>\n",
       "  </tbody>\n",
       "</table>\n",
       "</div>"
      ],
      "text/plain": [
       "     Year GeoId  Deaths\n",
       "12   2019    CN       0\n",
       "101  2020    CN    3254"
      ]
     },
     "metadata": {},
     "output_type": "display_data"
    },
    {
     "name": "stdout",
     "output_type": "stream",
     "text": [
      "Deaths in India\n"
     ]
    },
    {
     "data": {
      "text/html": [
       "<div>\n",
       "<style scoped>\n",
       "    .dataframe tbody tr th:only-of-type {\n",
       "        vertical-align: middle;\n",
       "    }\n",
       "\n",
       "    .dataframe tbody tr th {\n",
       "        vertical-align: top;\n",
       "    }\n",
       "\n",
       "    .dataframe thead th {\n",
       "        text-align: right;\n",
       "    }\n",
       "</style>\n",
       "<table border=\"1\" class=\"dataframe\">\n",
       "  <thead>\n",
       "    <tr style=\"text-align: right;\">\n",
       "      <th></th>\n",
       "      <th>Year</th>\n",
       "      <th>GeoId</th>\n",
       "      <th>Deaths</th>\n",
       "    </tr>\n",
       "  </thead>\n",
       "  <tbody>\n",
       "    <tr>\n",
       "      <td>30</td>\n",
       "      <td>2019</td>\n",
       "      <td>IN</td>\n",
       "      <td>0</td>\n",
       "    </tr>\n",
       "    <tr>\n",
       "      <td>141</td>\n",
       "      <td>2020</td>\n",
       "      <td>IN</td>\n",
       "      <td>4</td>\n",
       "    </tr>\n",
       "  </tbody>\n",
       "</table>\n",
       "</div>"
      ],
      "text/plain": [
       "     Year GeoId  Deaths\n",
       "30   2019    IN       0\n",
       "141  2020    IN       4"
      ]
     },
     "metadata": {},
     "output_type": "display_data"
    },
    {
     "name": "stdout",
     "output_type": "stream",
     "text": [
      "Yearly deaths Countrywisedue to COVID:\n",
      "\n"
     ]
    },
    {
     "data": {
      "text/html": [
       "<div>\n",
       "<style scoped>\n",
       "    .dataframe tbody tr th:only-of-type {\n",
       "        vertical-align: middle;\n",
       "    }\n",
       "\n",
       "    .dataframe tbody tr th {\n",
       "        vertical-align: top;\n",
       "    }\n",
       "\n",
       "    .dataframe thead th {\n",
       "        text-align: right;\n",
       "    }\n",
       "</style>\n",
       "<table border=\"1\" class=\"dataframe\">\n",
       "  <thead>\n",
       "    <tr style=\"text-align: right;\">\n",
       "      <th></th>\n",
       "      <th>Year</th>\n",
       "      <th>Deaths</th>\n",
       "    </tr>\n",
       "  </thead>\n",
       "  <tbody>\n",
       "    <tr>\n",
       "      <td>0</td>\n",
       "      <td>2019</td>\n",
       "      <td>0</td>\n",
       "    </tr>\n",
       "    <tr>\n",
       "      <td>1</td>\n",
       "      <td>2020</td>\n",
       "      <td>9885</td>\n",
       "    </tr>\n",
       "  </tbody>\n",
       "</table>\n",
       "</div>"
      ],
      "text/plain": [
       "   Year  Deaths\n",
       "0  2019       0\n",
       "1  2020    9885"
      ]
     },
     "metadata": {},
     "output_type": "display_data"
    },
    {
     "name": "stdout",
     "output_type": "stream",
     "text": [
      "Firs Case Detected Date in India\n"
     ]
    },
    {
     "data": {
      "text/plain": [
       "DateRep   2019-12-31\n",
       "dtype: datetime64[ns]"
      ]
     },
     "metadata": {},
     "output_type": "display_data"
    }
   ],
   "source": [
    "import pandas as pd\n",
    "import os\n",
    "from IPython.display import display\n",
    "\n",
    "covid_data = pd.read_excel(r\"C:\\Users\\lijitha\\datasets\\COVID-19-geographic-disbtribution-worldwide-2020-03-20.xlsx\")\n",
    "covid_data.columns\n",
    "#Index(['DateRep', 'Day', 'Month', 'Year', 'Cases', 'Deaths','Countries and territories', 'GeoId'],\n",
    "\n",
    "#Countries effected\n",
    "covid_countries = covid_data[\"GeoId\"].nunique()\n",
    "print(\"Countries effected:\"+ str(covid_countries))\n",
    "\n",
    "#Covid data worldwide\n",
    "covid_ww = covid_data.groupby(\"GeoId\",as_index=False).agg({\n",
    "    \"Cases\":sum,\n",
    "    \"Deaths\":sum,\n",
    "})\n",
    "print(\"COVID DATA worldwide:\")\n",
    "display(covid_ww.sort_values(\"Deaths\",ascending=False))\n",
    "covid_ww.pivot(index=\"GeoId\",columns=\"Deaths\")\n",
    "\n",
    "#Highestdeathscountrywise\n",
    "Highestdeathscountrywise=covid_data[[\"GeoId\",\"Year\",\"Deaths\"]].groupby([\"GeoId\"],as_index=False)['Deaths'].sum()\n",
    "print(\"Country with highest COVID Deaths:\\n\")\n",
    "display(Highestdeathscountrywise.sort_values(\"Deaths\",ascending=False).head(1))\n",
    "\n",
    "#DeathscountryYearwise\n",
    "HighestdeathscountryYearwise=covid_data[[\"GeoId\",\"Year\",\"Deaths\"]].groupby([\"Year\",\"GeoId\"],as_index=False)[\"Deaths\"].sum()\n",
    "print(\"COVID Deaths year and country wise :\")\n",
    "#print(HighestdeathscountryYearwise)\n",
    "HighestdeathscountryYearwise=HighestdeathscountryYearwise[HighestdeathscountryYearwise.GeoId.str.strip()=='CN']\n",
    "display(HighestdeathscountryYearwise)\n",
    "\n",
    "#DeathsInIndia\n",
    "DeathsInIndia=covid_data[[\"GeoId\",\"Year\",\"Deaths\"]].groupby([\"Year\",\"GeoId\"],as_index=False)[\"Deaths\"].sum()\n",
    "DeathsInIndia=DeathsInIndia[DeathsInIndia.GeoId.str.strip()=='IN']\n",
    "print(\"Deaths in India\")\n",
    "display(DeathsInIndia)\n",
    "\n",
    "#YearlyDeathsCountryWise\n",
    "YearlyDeaths=covid_data.groupby(\"Year\",as_index=False)[\"Deaths\"].sum()\n",
    "print(\"Yearly deaths Countrywisedue to COVID:\\n\")\n",
    "display(YearlyDeaths)\n",
    "\n",
    "\n",
    "#DeathFirstCaseDate\n",
    "DeathFirstCaseDate=covid_data[covid_data.GeoId.str.strip()=='IN']\n",
    "#display(DeathFirstCaseDate)\n",
    "DeathFirstCaseDate=DeathFirstCaseDate[[\"DateRep\",\"GeoId\",\"Cases\"]].agg({\"DateRep\":min})\n",
    "print(\"Firs Case Detected Date in India\")\n",
    "display(DeathFirstCaseDate)\n"
   ]
  },
  {
   "cell_type": "code",
   "execution_count": 194,
   "metadata": {},
   "outputs": [
    {
     "name": "stdout",
     "output_type": "stream",
     "text": [
      "COVID DATA worldwide:\n"
     ]
    },
    {
     "data": {
      "image/png": "[encoded data removed]",
      "text/plain": [
       "<Figure size 432x288 with 1 Axes>"
      ]
     },
     "metadata": {
      "needs_background": "light"
     },
     "output_type": "display_data"
    }
   ],
   "source": [
    "import pandas as pd\n",
    "import os\n",
    "from IPython.display import display\n",
    "import matplotlib.pyplot as plt\n",
    "\n",
    "\n",
    "#Covid data worldwide\n",
    "covid_ww = covid_data.groupby([\"GeoId\"],as_index=False).agg({\n",
    "    \"Cases\":sum,\n",
    "    \"Deaths\":sum\n",
    "})\n",
    "print(\"COVID DATA worldwide:\")\n",
    "#display(covid_ww.sort_values(\"Deaths\",ascending=False))\n",
    "#covid_ww.pivot(index=\"GeoId\",columns=\"Deaths\")\n",
    "covid_ww=covid_ww[covid_ww[\"Deaths\"]>100]\n",
    "covid_ww.plot(x ='GeoId', y='Deaths', kind = 'bar')\n",
    "plt.show()"
   ]
  },
  {
   "cell_type": "code",
   "execution_count": 5,
   "metadata": {},
   "outputs": [
    {
     "data": {
      "text/plain": [
       "pandas.core.frame.DataFrame"
      ]
     },
     "execution_count": 5,
     "metadata": {},
     "output_type": "execute_result"
    }
   ],
   "source": [
    "\n",
    "import pandas as pd\n",
    "import os\n",
    "from IPython.display import display\n",
    "\n",
    "\n",
    "covid_data = pd.read_excel(r\"C:\\Users\\lijitha\\datasets\\COVID-19-geographic-disbtribution-worldwide-2020-03-20.xlsx\")\n",
    "type(covid_data)"
   ]
  },
  {
   "cell_type": "code",
   "execution_count": null,
   "metadata": {},
   "outputs": [],
   "source": []
  }
 ],
 "metadata": {
  "kernelspec": {
   "display_name": "Python 3",
   "language": "python",
   "name": "python3"
  },
  "language_info": {
   "codemirror_mode": {
    "name": "ipython",
    "version": 3
   },
   "file_extension": ".py",
   "mimetype": "text/x-python",
   "name": "python",
   "nbconvert_exporter": "python",
   "pygments_lexer": "ipython3",
   "version": "3.7.4"
  }
 },
 "nbformat": 4,
 "nbformat_minor": 2
}
